{
  "cells": [
    {
      "cell_type": "code",
      "execution_count": null,
      "metadata": {
        "colab": {
          "base_uri": "https://localhost:8080/"
        },
        "id": "et4iHxFvlfLz",
        "outputId": "81629836-247e-4bbc-834d-6529a635ca2d"
      },
      "outputs": [
        {
          "name": "stdout",
          "output_type": "stream",
          "text": [
            "Requirement already satisfied: mediapipe in /usr/local/lib/python3.12/dist-packages (0.10.21)\n",
            "Requirement already satisfied: opencv-python in /usr/local/lib/python3.12/dist-packages (4.11.0.86)\n",
            "Requirement already satisfied: absl-py in /usr/local/lib/python3.12/dist-packages (from mediapipe) (1.4.0)\n",
            "Requirement already satisfied: attrs>=19.1.0 in /usr/local/lib/python3.12/dist-packages (from mediapipe) (25.4.0)\n",
            "Requirement already satisfied: flatbuffers>=2.0 in /usr/local/lib/python3.12/dist-packages (from mediapipe) (25.9.23)\n",
            "Requirement already satisfied: jax in /usr/local/lib/python3.12/dist-packages (from mediapipe) (0.5.3)\n",
            "Requirement already satisfied: jaxlib in /usr/local/lib/python3.12/dist-packages (from mediapipe) (0.5.3)\n",
            "Requirement already satisfied: matplotlib in /usr/local/lib/python3.12/dist-packages (from mediapipe) (3.10.0)\n",
            "Requirement already satisfied: numpy<2 in /usr/local/lib/python3.12/dist-packages (from mediapipe) (1.26.4)\n",
            "Requirement already satisfied: opencv-contrib-python in /usr/local/lib/python3.12/dist-packages (from mediapipe) (4.11.0.86)\n",
            "Requirement already satisfied: protobuf<5,>=4.25.3 in /usr/local/lib/python3.12/dist-packages (from mediapipe) (4.25.8)\n",
            "Requirement already satisfied: sounddevice>=0.4.4 in /usr/local/lib/python3.12/dist-packages (from mediapipe) (0.5.2)\n",
            "Requirement already satisfied: sentencepiece in /usr/local/lib/python3.12/dist-packages (from mediapipe) (0.2.1)\n",
            "Requirement already satisfied: CFFI>=1.0 in /usr/local/lib/python3.12/dist-packages (from sounddevice>=0.4.4->mediapipe) (2.0.0)\n",
            "Requirement already satisfied: ml_dtypes>=0.4.0 in /usr/local/lib/python3.12/dist-packages (from jax->mediapipe) (0.5.3)\n",
            "Requirement already satisfied: opt_einsum in /usr/local/lib/python3.12/dist-packages (from jax->mediapipe) (3.4.0)\n",
            "Requirement already satisfied: scipy>=1.11.1 in /usr/local/lib/python3.12/dist-packages (from jax->mediapipe) (1.16.2)\n",
            "Requirement already satisfied: contourpy>=1.0.1 in /usr/local/lib/python3.12/dist-packages (from matplotlib->mediapipe) (1.3.3)\n",
            "Requirement already satisfied: cycler>=0.10 in /usr/local/lib/python3.12/dist-packages (from matplotlib->mediapipe) (0.12.1)\n",
            "Requirement already satisfied: fonttools>=4.22.0 in /usr/local/lib/python3.12/dist-packages (from matplotlib->mediapipe) (4.60.1)\n",
            "Requirement already satisfied: kiwisolver>=1.3.1 in /usr/local/lib/python3.12/dist-packages (from matplotlib->mediapipe) (1.4.9)\n",
            "Requirement already satisfied: packaging>=20.0 in /usr/local/lib/python3.12/dist-packages (from matplotlib->mediapipe) (25.0)\n",
            "Requirement already satisfied: pillow>=8 in /usr/local/lib/python3.12/dist-packages (from matplotlib->mediapipe) (11.3.0)\n",
            "Requirement already satisfied: pyparsing>=2.3.1 in /usr/local/lib/python3.12/dist-packages (from matplotlib->mediapipe) (3.2.5)\n",
            "Requirement already satisfied: python-dateutil>=2.7 in /usr/local/lib/python3.12/dist-packages (from matplotlib->mediapipe) (2.9.0.post0)\n",
            "Requirement already satisfied: pycparser in /usr/local/lib/python3.12/dist-packages (from CFFI>=1.0->sounddevice>=0.4.4->mediapipe) (2.23)\n",
            "Requirement already satisfied: six>=1.5 in /usr/local/lib/python3.12/dist-packages (from python-dateutil>=2.7->matplotlib->mediapipe) (1.17.0)\n",
            "W: Skipping acquire of configured file 'main/source/Sources' as repository 'https://r2u.stat.illinois.edu/ubuntu jammy InRelease' does not seem to provide it (sources.list entry misspelt?)\n",
            "Reading package lists... Done\n",
            "Building dependency tree... Done\n",
            "Reading state information... Done\n",
            "The following NEW packages will be installed:\n",
            "  fonts-nanum\n",
            "0 upgraded, 1 newly installed, 0 to remove and 39 not upgraded.\n",
            "Need to get 10.3 MB of archives.\n",
            "After this operation, 34.1 MB of additional disk space will be used.\n",
            "Get:1 http://archive.ubuntu.com/ubuntu jammy/universe amd64 fonts-nanum all 20200506-1 [10.3 MB]\n",
            "Fetched 10.3 MB in 3s (3,861 kB/s)\n",
            "Selecting previously unselected package fonts-nanum.\n",
            "(Reading database ... 126675 files and directories currently installed.)\n",
            "Preparing to unpack .../fonts-nanum_20200506-1_all.deb ...\n",
            "Unpacking fonts-nanum (20200506-1) ...\n",
            "Setting up fonts-nanum (20200506-1) ...\n",
            "Processing triggers for fontconfig (2.13.1-4.2ubuntu5) ...\n"
          ]
        }
      ],
      "source": [
        "#mediapipe 설치\n",
        "\n",
        "!pip install mediapipe opencv-python\n",
        "!apt-get update -qq >/dev/null\n",
        "!apt-get install -y fonts-nanum"
      ]
    },
    {
      "cell_type": "code",
      "execution_count": null,
      "metadata": {
        "colab": {
          "base_uri": "https://localhost:8080/"
        },
        "id": "Q5_2MUV5oYS-",
        "outputId": "01a96aab-21b1-42aa-c624-a7d4389f9142"
      },
      "outputs": [
        {
          "name": "stdout",
          "output_type": "stream",
          "text": [
            "✅ 준비 완료: JS+Canvas 캡처 방식 / Mediapipe Pose 사용\n"
          ]
        }
      ],
      "source": [
        "# ------------------------------\n",
        "# Cell 1: 기본 임포트 & Mediapipe 준비\n",
        "# ------------------------------\n",
        "from google.colab import output\n",
        "from IPython.display import Javascript, display, clear_output\n",
        "from base64 import b64decode\n",
        "import cv2, mediapipe as mp, numpy as np, time\n",
        "\n",
        "# Mediapipe 모듈 참조\n",
        "mp_drawing = mp.solutions.drawing_utils\n",
        "mp_pose = mp.solutions.pose\n",
        "\n",
        "# 각도 계산 함수 (b를 중심으로 a-b-c 각도)\n",
        "def calculate_angle(a, b, c):\n",
        "    a, b, c = np.array(a), np.array(b), np.array(c)\n",
        "    radians = np.arctan2(c[1]-b[1], c[0]-b[0]) - np.arctan2(a[1]-b[1], a[0]-b[0])\n",
        "    angle = np.abs(radians * 180.0 / np.pi)\n",
        "    if angle > 180.0:\n",
        "        angle = 360 - angle\n",
        "    return angle\n",
        "\n",
        "print(\"✅ 준비 완료: JS+Canvas 캡처 방식 / Mediapipe Pose 사용\")\n"
      ]
    },
    {
      "cell_type": "code",
      "execution_count": null,
      "metadata": {
        "colab": {
          "base_uri": "https://localhost:8080/"
        },
        "id": "xuwetTaDoa6p",
        "outputId": "12125866-b65d-49f5-85d4-ca2c7660d6b1"
      },
      "outputs": [
        {
          "data": {
            "application/javascript": [
              "\n",
              "  async function startWebcam() {\n",
              "    // 이미 생성된 비디오가 있으면 재사용\n",
              "    if (window.__colabVideo && !window.__colabVideo.paused) {\n",
              "      return;\n",
              "    }\n",
              "    const video = document.createElement('video');\n",
              "    video.style.display = 'block';\n",
              "    video.style.maxWidth = '100%';\n",
              "    document.body.appendChild(video);\n",
              "    const stream = await navigator.mediaDevices.getUserMedia({ video: { facingMode: \"user\" }, audio: false });\n",
              "    video.srcObject = stream;\n",
              "    await video.play();\n",
              "    // 전역 보관 (다른 셀에서 프레임 캡처에 사용)\n",
              "    window.__colabVideo = video;\n",
              "  }\n",
              "  startWebcam();\n"
            ],
            "text/plain": [
              "<IPython.core.display.Javascript object>"
            ]
          },
          "metadata": {},
          "output_type": "display_data"
        },
        {
          "name": "stdout",
          "output_type": "stream",
          "text": [
            "📸 카메라 요청 완료 — 브라우저 팝업에서 '허용'을 눌러주세요.\n"
          ]
        }
      ],
      "source": [
        "# ------------------------------\n",
        "# Cell 2: 브라우저 카메라 시작 (허용 팝업)\n",
        "# ------------------------------\n",
        "display(Javascript('''\n",
        "  async function startWebcam() {\n",
        "    // 이미 생성된 비디오가 있으면 재사용\n",
        "    if (window.__colabVideo && !window.__colabVideo.paused) {\n",
        "      return;\n",
        "    }\n",
        "    const video = document.createElement('video');\n",
        "    video.style.display = 'block';\n",
        "    video.style.maxWidth = '100%';\n",
        "    document.body.appendChild(video);\n",
        "    const stream = await navigator.mediaDevices.getUserMedia({ video: { facingMode: \"user\" }, audio: false });\n",
        "    video.srcObject = stream;\n",
        "    await video.play();\n",
        "    // 전역 보관 (다른 셀에서 프레임 캡처에 사용)\n",
        "    window.__colabVideo = video;\n",
        "  }\n",
        "  startWebcam();\n",
        "'''))\n",
        "print(\"📸 카메라 요청 완료 — 브라우저 팝업에서 '허용'을 눌러주세요.\")\n"
      ]
    },
    {
      "cell_type": "code",
      "execution_count": null,
      "metadata": {
        "id": "gAVd7F8UobmU"
      },
      "outputs": [],
      "source": [
        "# ------------------------------\n",
        "# Cell 3: 프레임 캡처 함수 & 유틸\n",
        "# ------------------------------\n",
        "def get_colab_frame(jpeg_quality=0.8):\n",
        "    \"\"\"\n",
        "    브라우저의 <video>에서 현재 프레임을 Canvas로 복사 → dataURL(JPEG) → 파이썬으로 전달\n",
        "    \"\"\"\n",
        "    data_url = output.eval_js(f'''\n",
        "      (async () => {{\n",
        "        const video = window.__colabVideo;\n",
        "        if (!video) return null;\n",
        "        const canvas = document.createElement('canvas');\n",
        "        canvas.width = video.videoWidth || 640;\n",
        "        canvas.height = video.videoHeight || 480;\n",
        "        const ctx = canvas.getContext('2d');\n",
        "        ctx.drawImage(video, 0, 0);\n",
        "        return canvas.toDataURL('image/jpeg', {jpeg_quality});\n",
        "      }})()\n",
        "    ''')\n",
        "    if not data_url:\n",
        "        return None\n",
        "    img_bytes = b64decode(data_url.split(',')[1])\n",
        "    frame = cv2.imdecode(np.frombuffer(img_bytes, np.uint8), cv2.IMREAD_COLOR)\n",
        "    return frame\n",
        "\n",
        "def draw_hud(vis, angle=None, count=0, fps=None, status_text=None):\n",
        "    \"\"\"\n",
        "    결과 HUD 오버레이\n",
        "    \"\"\"\n",
        "    y = 28\n",
        "    if angle is not None:\n",
        "        cv2.putText(vis, f\"Angle: {int(angle)} deg\", (18, y),\n",
        "                    cv2.FONT_HERSHEY_SIMPLEX, 0.7, (255,255,255), 2)\n",
        "        y += 32\n",
        "    cv2.putText(vis, f\"Count: {count}\", (18, y),\n",
        "                cv2.FONT_HERSHEY_SIMPLEX, 0.85, (0,255,0), 2)\n",
        "    y += 32\n",
        "    if fps is not None:\n",
        "        cv2.putText(vis, f\"FPS: {fps:.1f}\", (18, y),\n",
        "                    cv2.FONT_HERSHEY_SIMPLEX, 0.6, (255,255,0), 2)\n",
        "        y += 28\n",
        "    if status_text:\n",
        "        cv2.putText(vis, status_text, (18, y),\n",
        "                    cv2.FONT_HERSHEY_SIMPLEX, 0.6, (0,200,255), 2)\n"
      ]
    },
    {
      "cell_type": "code",
      "execution_count": null,
      "metadata": {
        "colab": {
          "background_save": true,
          "base_uri": "https://localhost:8080/"
        },
        "id": "GuIWKaj5oqow",
        "outputId": "12273e0d-a640-4794-96eb-dd5dd34b5838"
      },
      "outputs": [
        {
          "name": "stdout",
          "output_type": "stream",
          "text": [
            "✅ 자동 분석 시작 — 셀 정지(Stop) 버튼으로 종료하세요.\n"
          ]
        }
      ],
      "source": [
        "# ------------------------------\n",
        "# Cell 4: 자동 캡처 + Mediapipe 분석 루프 (스쿼트)\n",
        "# ------------------------------\n",
        "from google.colab.patches import cv2_imshow\n",
        "\n",
        "# Mediapipe Pose 초기화\n",
        "pose = mp_pose.Pose(min_detection_confidence=0.5, min_tracking_confidence=0.5)\n",
        "\n",
        "counter, stage = 0, None\n",
        "ema_fps, t_last = None, time.time()\n",
        "\n",
        "print(\"✅ 자동 분석 시작 — 셀 정지(Stop) 버튼으로 종료하세요.\")\n",
        "\n",
        "try:\n",
        "    while True:\n",
        "        frame = get_colab_frame(jpeg_quality=0.8)\n",
        "        if frame is None:\n",
        "            # 아직 허용 전이거나 준비 중인 경우가 있을 수 있음\n",
        "            time.sleep(0.05)\n",
        "            continue\n",
        "\n",
        "        # 원본 프레임을 복사해 그 위에 그립니다\n",
        "        vis = frame.copy()\n",
        "\n",
        "        # Mediapipe 추론 (RGB)\n",
        "        img_rgb = cv2.cvtColor(frame, cv2.COLOR_BGR2RGB)\n",
        "        results = pose.process(img_rgb)\n",
        "\n",
        "        angle = None\n",
        "        status_text = None\n",
        "\n",
        "        if results.pose_landmarks:\n",
        "            # 랜드마크 그리기\n",
        "            mp_drawing.draw_landmarks(vis, results.pose_landmarks, mp_pose.POSE_CONNECTIONS)\n",
        "\n",
        "            lm = results.pose_landmarks.landmark\n",
        "            # 왼쪽 다리 기준: 엉덩이-무릎-발목\n",
        "            hip   = [lm[mp_pose.PoseLandmark.LEFT_HIP.value].x,   lm[mp_pose.PoseLandmark.LEFT_HIP.value].y]\n",
        "            knee  = [lm[mp_pose.PoseLandmark.LEFT_KNEE.value].x,  lm[mp_pose.PoseLandmark.LEFT_KNEE.value].y]\n",
        "            ankle = [lm[mp_pose.PoseLandmark.LEFT_ANKLE.value].x, lm[mp_pose.PoseLandmark.LEFT_ANKLE.value].y]\n",
        "\n",
        "            # 픽셀 좌표로 바꾸지 않아도 각도 비교에는 무방 (정규화 좌표)\n",
        "            angle = calculate_angle(hip, knee, ankle)\n",
        "\n",
        "            # 간단한 스쿼트 상태 전이: up(펴짐) -> down(앉음)\n",
        "            if angle > 160:\n",
        "                stage = \"up\"\n",
        "                status_text = \"Standing (UP)\"\n",
        "            if angle < 90 and stage == \"up\":\n",
        "                stage = \"down\"\n",
        "                counter += 1\n",
        "                status_text = \"Squat! (DOWN)\"\n",
        "        else:\n",
        "            status_text = \"No Pose Detected\"\n",
        "\n",
        "        # FPS 계산 (EMA)\n",
        "        now = time.time()\n",
        "        dt = now - t_last\n",
        "        t_last = now\n",
        "        inst_fps = 1.0 / dt if dt > 0 else 0.0\n",
        "        ema_fps = inst_fps if ema_fps is None else (0.9 * ema_fps + 0.1 * inst_fps)\n",
        "\n",
        "        # HUD 오버레이\n",
        "        draw_hud(vis, angle=angle, count=counter, fps=ema_fps, status_text=status_text)\n",
        "\n",
        "        # 출력 깜빡임을 줄이기 위해 clear_output(wait=True)\n",
        "        clear_output(wait=True)\n",
        "        cv2_imshow(vis)\n",
        "\n",
        "        # 너무 과도한 요청 방지 (CPU/GPU/브라우저 부담 완화)\n",
        "        time.sleep(0.06)  # 약 ~16 FPS 목표\n",
        "\n",
        "except KeyboardInterrupt:\n",
        "    print(\"🛑 사용자 중단\")\n",
        "finally:\n",
        "    pose.close()\n",
        "    print(\"💾 최종 스쿼트 횟수:\", counter)\n"
      ]
    },
    {
      "cell_type": "code",
      "execution_count": null,
      "metadata": {
        "id": "JBbZU9oyoriM"
      },
      "outputs": [],
      "source": [
        "# ------------------------------\n",
        "# Cell 5: 스트림 정리(선택) & 요약\n",
        "# ------------------------------\n",
        "# 브라우저 쪽 카메라 스트림 중지\n",
        "display(Javascript('''\n",
        "  (function stopWebcam() {\n",
        "    const video = window.__colabVideo;\n",
        "    if (video && video.srcObject) {\n",
        "      for (const track of video.srcObject.getTracks()) {\n",
        "        track.stop();\n",
        "      }\n",
        "      video.srcObject = null;\n",
        "      video.remove();\n",
        "    }\n",
        "    window.__colabVideo = null;\n",
        "  })();\n",
        "'''))\n",
        "\n",
        "print(\"\"\"정리 완료 ✅\n",
        "- 브라우저 비디오 스트림 중지\n",
        "- Colab 셀(분석 루프)은 Stop으로 중단하세요\n",
        "- 다시 시작하려면: 셀 2(카메라 시작) → 셀 4(분석 루프)\n",
        "\"\"\")\n"
      ]
    }
  ],
  "metadata": {
    "colab": {
      "provenance": []
    },
    "kernelspec": {
      "display_name": "Python 3",
      "name": "python3"
    },
    "language_info": {
      "name": "python"
    }
  },
  "nbformat": 4,
  "nbformat_minor": 0
}